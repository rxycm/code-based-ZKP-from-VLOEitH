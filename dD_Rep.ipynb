{
 "cells": [
  {
   "cell_type": "code",
   "execution_count": 1,
   "id": "27266168",
   "metadata": {
    "vscode": {
     "languageId": "python"
    }
   },
   "outputs": [],
   "source": [
    "import  numpy as np"
   ]
  },
  {
   "cell_type": "code",
   "execution_count": 2,
   "id": "e1873e62",
   "metadata": {
    "vscode": {
     "languageId": "python"
    }
   },
   "outputs": [],
   "source": [
    "# 定义基本域 GF(2)\n",
    "GF_2 = GF(2) \n",
    "# 定义扩域 GF(2^8)\n",
    "GF_2p8.<a> = GF(2^8, modulus=x^8+x^4+x^3+x+1)\n",
    "# 定义扩域 GF(2^128)\n",
    "GF_2p128.<b> = GF(2^128, modulus=x^128+x^17+x^9+x^7+1)\n",
    "\n",
    "\n",
    "def to_2p128(x):\n",
    "    return GF_2p128.from_integer(x.to_integer())\n",
    "# 选定一组基(1,x^8,...,x^120),将F_{2^8}^{16}提升到F_{2^128}\n",
    "def lift_to_GF2p128(x):\n",
    "    res = GF_2p128(0)\n",
    "    for i in range(16):\n",
    "        temp1 = b^(i*8)\n",
    "        temp2 = to_2p128(x[i])\n",
    "        res += temp1 * temp2\n",
    "    return res\n",
    "\n"
   ]
  },
  {
   "cell_type": "code",
   "execution_count": null,
   "id": "3667c1f3",
   "metadata": {
    "vscode": {
     "languageId": "python"
    }
   },
   "outputs": [],
   "source": [
    "# test\n",
    "test = np.array([GF_2p8.random_element() for _ in range(16)])\n",
    "print(test)\n",
    "print(lift_to_GF2p128(test))"
   ]
  },
  {
   "cell_type": "code",
   "execution_count": 3,
   "id": "35a2a52d",
   "metadata": {
    "vscode": {
     "languageId": "python"
    }
   },
   "outputs": [],
   "source": [
    "# 将列向量x 过RE函数,x是字符串01字符串\n",
    "def re(x):\n",
    "    c = 8\n",
    "    k = len(x) \n",
    "    x_block = [int(''.join(map(str, x[i:i+8][::-1])), 2) for i in range(0, len(x), 8)]\n",
    "    y = [[1 if j == x_block[i]  else 0 for j in range(2**c)] for i in range(k//c)]\n",
    "    return np.array(y)\n",
    "\n",
    "# B n*(k/c·2^c) \n",
    "# n = 1280 \n",
    "# k = 1280\n",
    "# c = 8\n",
    "# 1280*40960 \n",
    "def gen_B():\n",
    "    B = np.random.randint(0, 2000, size=(1280, 40960))\n",
    "    B = (B == 1).astype(int)\n",
    "    return B\n",
    "\n",
    "def gen_x():\n",
    "    x = np.random.randint(0, 2, size = 1280)\n",
    "    return x\n",
    "\n",
    "def AFS(B,x):\n",
    "    y = re(x)\n",
    "    temp = y.reshape(-1)\n",
    "    return (B @ temp) % 2\n",
    "\n",
    "B_matrix = gen_B()\n",
    "# X_vec = gen_x()\n"
   ]
  },
  {
   "cell_type": "code",
   "execution_count": null,
   "id": "bb82531f",
   "metadata": {
    "vscode": {
     "languageId": "python"
    }
   },
   "outputs": [],
   "source": [
    "# test\n",
    "test_B = gen_B()\n",
    "print(test_B)\n",
    "test_x = gen_x()\n",
    "print(\"x:\",test_x)\n",
    "test_y = re(test_x)\n",
    "test_res = AFS(test_B,test_x)\n",
    "print(test_res)"
   ]
  },
  {
   "cell_type": "code",
   "execution_count": 6,
   "id": "4fe8e972",
   "metadata": {
    "vscode": {
     "languageId": "python"
    }
   },
   "outputs": [],
   "source": [
    "# 建议不要使用此块代码,请运行下一个代码块,针对多项式优化后的版本\n",
    "\n",
    "\n",
    "#将正则编码转换成布尔函数\n",
    "# 一次性定义1280个符号变量\n",
    "R_1280 = PolynomialRing(GF_2,'x',1280)\n",
    "vars = R_1280.gens() # x0, x1, ..., x1279\n",
    "\n",
    "def REtoBooleanFunc():\n",
    "    binary_list = np.array([[int(bit) for bit in format(i, '08b')] for i in range(256)])\n",
    "    res = np.zeros(40960,dtype=object)  # 预分配数组，160是1280/8\n",
    "    for i in range(0, 1280, 8):\n",
    "        tmp = np.ones(256,dtype=object)\n",
    "        tmp = ((1 + binary_list[:, 7] + vars[i + 0])*(1 + binary_list[:, 6] + vars[i + 1])*(1 + binary_list[:, 5] + vars[i + 2])\n",
    "                *(1 + binary_list[:, 4] + vars[i + 3])*(1 + binary_list[:, 3] + vars[i + 4])*(1 + binary_list[:, 2] + vars[i + 5])\n",
    "                *(1 + binary_list[:, 1] + vars[i + 6])*(1 + binary_list[:, 0] + vars[i + 7]))\n",
    "        res[i//8*256:(i//8+1)*256] = tmp# 存储结果\n",
    "    return res\n",
    "\n",
    "Boolean_vec = REtoBooleanFunc().reshape(-1,1)\n",
    "\n",
    "\n"
   ]
  },
  {
   "cell_type": "code",
   "execution_count": null,
   "id": "0da65716",
   "metadata": {
    "vscode": {
     "languageId": "python"
    }
   },
   "outputs": [],
   "source": [
    "# 对于多形式进行优化\n",
    "\n",
    "# 正则编码转换成布尔函数\n",
    "R_opt = PolynomialRing(GF_2,'y',9)\n",
    "vars_opt = R_opt.gens()\n",
    "\n",
    "def REtoBool_opt():\n",
    "    binary_list = np.array([[int(bit) for bit in format(i, '08b')] for i in range(256)])\n",
    "    res = np.zeros(256,dtype=object)  # 预分配数组，160是1280/8\n",
    "    res = ((1 + binary_list[:, 7] + vars_opt[0])*(1 + binary_list[:, 6] + vars_opt[1])*(1 + binary_list[:, 5] + vars_opt[2])\n",
    "            *(1 + binary_list[:, 4] + vars_opt[3])*(1 + binary_list[:, 3] + vars_opt[4])*(1 + binary_list[:, 2] + vars_opt[5])\n",
    "            *(1 + binary_list[:, 1] + vars_opt[6])*(1 + binary_list[:, 0] + vars_opt[7]))\n",
    "    \n",
    "    return res.reshape(256)\n",
    "\n",
    "Bool_opt = REtoBool_opt()\n",
    "print(Bool_opt)"
   ]
  },
  {
   "cell_type": "code",
   "execution_count": null,
   "id": "4d19d573",
   "metadata": {
    "vscode": {
     "languageId": "python"
    }
   },
   "outputs": [],
   "source": [
    "# test\n",
    "test_x = gen_x()\n",
    "test_y = re(test_x)\n",
    "test_funcs = np.vectorize(lambda f: f(*test_x))\n",
    "test_boolean = test_funcs(Boolean_vec)\n",
    "test_y =test_y.reshape(-1,1)\n",
    "print(\"false:\",np.sum(test_y != test_boolean))"
   ]
  },
  {
   "cell_type": "code",
   "execution_count": null,
   "id": "36e7031f",
   "metadata": {
    "vscode": {
     "languageId": "python"
    }
   },
   "outputs": [],
   "source": [
    "# 建议不要使用此块代码,请运行下一个代码块,针对多项式优化后的版本\n",
    "# AFS 的 布尔函数\n",
    "FUNC = np.zeros(1280,dtype=object)\n",
    "temp_TF = (B_matrix==1)\n",
    "for i in range(1280):\n",
    "    print(i)\n",
    "    FUNC[i] = R_1280(0)\n",
    "    for j in range(40960):\n",
    "        if temp_TF[i][j]:\n",
    "            FUNC[i] += Boolean_vec[j][0]\n",
    "print(FUNC)\n"
   ]
  },
  {
   "cell_type": "code",
   "execution_count": null,
   "id": "dfea97e5",
   "metadata": {
    "vscode": {
     "languageId": "python"
    }
   },
   "outputs": [],
   "source": [
    "# 不必运行\n",
    "\n",
    "# 对于AFS的布尔函数进行优化\n",
    "\n",
    "FUNC_opt = np.zeros((1280,160),dtype=object)\n",
    "temp_TF = (B_matrix==1)\n",
    "for i in range(1280):\n",
    "    print(i)\n",
    "    for j in range(160):\n",
    "        FUNC_opt[i][j] = R_opt(0)\n",
    "        for k in range(256):\n",
    "            if temp_TF[i][j*256+k]:\n",
    "                FUNC_opt[i][j] += Bool_opt[k]\n",
    "print(FUNC_opt)"
   ]
  },
  {
   "cell_type": "code",
   "execution_count": null,
   "id": "b895b84b",
   "metadata": {
    "vscode": {
     "languageId": "python"
    }
   },
   "outputs": [],
   "source": [
    "# test\n",
    "test_x = gen_x()\n",
    "test_AFS = AFS(B_matrix,test_x)\n",
    "test_funcs = np.vectorize(lambda f: f(*test_x))\n",
    "test_FUNC = test_funcs(FUNC)\n",
    "\n",
    "print(\"false:\",np.sum(test_AFS != test_FUNC))"
   ]
  },
  {
   "cell_type": "code",
   "execution_count": null,
   "id": "6a8e2a16",
   "metadata": {
    "vscode": {
     "languageId": "python"
    }
   },
   "outputs": [],
   "source": [
    "# 建议不要使用此块代码,请运行下一个代码块,针对多项式优化后的版本\n",
    "\n",
    "# AFS 按 deg\n",
    "FUNC_f_ih = np.zeros((1280,9),dtype=object)\n",
    "for i in range(1280):\n",
    "    temp = FUNC[i].homogeneous_components()\n",
    "    print(i)\n",
    "    for j in range(9):\n",
    "        FUNC_f_ih[i][j] = temp.get(j,R_1280(0)).change_ring(GF_2p128)\n",
    "\n",
    "print(FUNC_f_ih)\n",
    "\n",
    "FUNC_homo = np.zeros(1280,dtype=object)\n",
    "for i in range(1280):\n",
    "    print(i)\n",
    "    FUNC_homo[i] = FUNC[i].homogenize().change_ring(GF_2p128)\n",
    "print(FUNC_homo)"
   ]
  },
  {
   "cell_type": "code",
   "execution_count": 5,
   "id": "7e5eb060",
   "metadata": {
    "vscode": {
     "languageId": "python"
    }
   },
   "outputs": [],
   "source": [
    "# 优化后的代码\n",
    "\n",
    "def gen_func_homo(func_list):\n",
    "    FUNC_opt_homo = np.zeros((1280,160),dtype=object)\n",
    "    for i in range(1280):\n",
    "        for j in range(160):\n",
    "            if(func_list[i][j] == R_opt(1) or func_list[i][j] == R_opt(0)):\n",
    "                FUNC_opt_homo[i][j] = func_list[i][j].change_ring(GF_2p128)\n",
    "                continue\n",
    "            temp_dict = func_list[i][j].homogeneous_components()\n",
    "            if temp_dict.get(8,None) == None:\n",
    "                for k in range(7,0,-1):\n",
    "                    if temp_dict.get(k,None) != None:\n",
    "                        func_list[i][j] = func_list[i][j] * vars_opt[8]^(8-k)\n",
    "                        break\n",
    "            FUNC_opt_homo[i][j] = func_list[i][j].homogenize(vars_opt[8]).change_ring(GF_2p128)\n",
    "    return FUNC_opt_homo"
   ]
  },
  {
   "cell_type": "code",
   "execution_count": null,
   "id": "7b4de676",
   "metadata": {
    "vscode": {
     "languageId": "python"
    }
   },
   "outputs": [],
   "source": [
    "## 至此 setup部分结束\n",
    "## 以下是dD_Rep部分"
   ]
  },
  {
   "cell_type": "code",
   "execution_count": null,
   "id": "8c65799f",
   "metadata": {
    "vscode": {
     "languageId": "python"
    }
   },
   "outputs": [],
   "source": [
    "# 此部分代码属于setup,为方便测试放在此处,这部分运行时间不应算入我们的方案中\n",
    "FUNC_opt = np.zeros((1280,160),dtype=object)\n",
    "temp_TF = (B_matrix==1)\n",
    "for i in range(1280):\n",
    "    print(i)\n",
    "    for j in range(160):\n",
    "        FUNC_opt[i][j] = R_opt(0)\n",
    "        for k in range(256):\n",
    "            if temp_TF[i][j*256+k]:\n",
    "                FUNC_opt[i][j] += Bool_opt[k]\n",
    "\n",
    "# 以下属于dD_Rep部分\n",
    "def gen_witness():\n",
    "    return gen_x()\n",
    "def gen_func_dD_Rep(witness,B_mat):\n",
    "    afs_res = AFS(B_mat,witness)\n",
    "    for i in range(1280):\n",
    "        FUNC_opt[i][0] += GF_2(afs_res[i])\n",
    "    return "
   ]
  },
  {
   "cell_type": "code",
   "execution_count": null,
   "id": "84e83a8e",
   "metadata": {
    "vscode": {
     "languageId": "python"
    }
   },
   "outputs": [],
   "source": [
    "# test\n",
    "test_witness = gen_witness()\n",
    "gen_func_dD_Rep(test_witness,B_matrix)\n",
    "for i in range(1280):\n",
    "    temp = 0\n",
    "    for j in range(160):\n",
    "        temp += FUNC_opt[i][j](*(test_witness[j*8:(j+1)*8]),0) \n",
    "    if(temp != 0):\n",
    "        print(\"err\")\n",
    "        break\n",
    "else:\n",
    "    print(\"pass\")"
   ]
  },
  {
   "cell_type": "code",
   "execution_count": null,
   "id": "bc88c8cc",
   "metadata": {
    "vscode": {
     "languageId": "python"
    }
   },
   "outputs": [],
   "source": [
    "# 此部分代码属于setup,为方便测试放在此处,这部分运行时间不应算入我们的方案中\n",
    "FUNC_opt = np.zeros((1280,160),dtype=object)\n",
    "temp_TF = (B_matrix==1)\n",
    "for i in range(1280):\n",
    "    print(i)\n",
    "    for j in range(160):\n",
    "        FUNC_opt[i][j] = R_opt(0)\n",
    "        for k in range(256):\n",
    "            if temp_TF[i][j*256+k]:\n",
    "                FUNC_opt[i][j] += Bool_opt[k]\n",
    "\n",
    "# 以下代码属于dD-Rep\n",
    "witness = gen_witness()\n",
    "gen_func_dD_Rep(witness,B_matrix)\n",
    "FUNC_opt_i_h = gen_func_homo(FUNC_opt)\n"
   ]
  },
  {
   "cell_type": "code",
   "execution_count": null,
   "id": "396b254c",
   "metadata": {
    "vscode": {
     "languageId": "python"
    }
   },
   "outputs": [],
   "source": [
    "# test\n",
    "\n",
    "print(FUNC_opt_i_h[0])\n",
    "print(FUNC_opt_i_h[0][0](vars_opt[0],vars_opt[0],vars_opt[0],vars_opt[0],vars_opt[0],vars_opt[0],vars_opt[0],vars_opt[0],1))"
   ]
  },
  {
   "cell_type": "code",
   "execution_count": 8,
   "id": "6fbc7815",
   "metadata": {
    "vscode": {
     "languageId": "python"
    }
   },
   "outputs": [],
   "source": [
    "# 需要运行,仅用于测试\n",
    "l_vole = 2176 # 1280 + 7 * 128\n",
    "G_C = np.array([1 for _ in range(16)]).reshape(1,16)\n",
    "def vole():\n",
    "    delta_vole = np.array([GF_2p8.random_element() for _ in range(16)])\n",
    "    u_vole = np.zeros((l_vole,1),dtype=object)\n",
    "    for i in range(l_vole):\n",
    "        if randint(0,1) == 1:\n",
    "            u_vole[i][0] = 1\n",
    "        else:\n",
    "            u_vole[i][0] = 0\n",
    "\n",
    "    v_vole = np.zeros((l_vole,16),dtype=object)\n",
    "    for i in range(l_vole):\n",
    "        for j in range(16):\n",
    "            v_vole[i][j] = GF_2p8.random_element()\n",
    "    Q_vole = u_vole @ G_C @ np.diag(delta_vole) + v_vole\n",
    "\n",
    "    return ((u_vole,v_vole),(Q_vole,delta_vole))\n",
    "    "
   ]
  },
  {
   "cell_type": "code",
   "execution_count": 9,
   "id": "e26fe177",
   "metadata": {
    "vscode": {
     "languageId": "python"
    }
   },
   "outputs": [],
   "source": [
    "# dD-Rep\n",
    "# λ = 128 Security level\n",
    "# p = 2  Base field F_p\n",
    "# q = 2^8 Extension field F_q\n",
    "# r = 8  p =q^r\n",
    "# τ = 16 Repetition for VOLEitH\n",
    "l = 1280\n",
    "\n",
    "deg = 8 \n",
    "\n",
    "# 修改此处的t可以更改验证的规模.t代表一次性验证的多项式数量.在此测试中最大为1280.验证时间随t线性增长.建议使用较小的t验证.\n",
    "t = 1280\n",
    "\n",
    "\n",
    "# u \\in F_2^{l+(d-1)rτ}\n",
    "# v \\in F_{2^r}^{(l+(d-1)rτ)*τ}\n",
    "# w \\in F_2^l\n",
    "def round1(u,v,w):\n",
    "    d = w - u[:l]\n",
    "    u_lift = np.array([GF_2p128.from_integer(x) for x in u[l:]])\n",
    "    v_lift = np.array([lift_to_GF2p128(x) for x in v])\n",
    "    return (u_lift,v_lift,d)\n",
    "\n",
    "def round2():\n",
    "    challenge = np.array([GF_2p128.random_element() for _ in range(t)])\n",
    "    return challenge\n"
   ]
  },
  {
   "cell_type": "code",
   "execution_count": 10,
   "id": "30815cfd",
   "metadata": {
    "vscode": {
     "languageId": "python"
    }
   },
   "outputs": [],
   "source": [
    "def round3(challenge,u_lift,v_lift,witness):\n",
    "    A_i_j = np.zeros((t,deg),dtype = object)\n",
    "    temp_list = v_lift[:l]+witness[:l]*vars_opt[8]\n",
    "    for i in range(t):\n",
    "        print(i)\n",
    "        for j in range(deg):\n",
    "            A_i_j[i][j] = GF_2p128(0)\n",
    "        c_i_y = R_opt(0).change_ring(GF_2p128)\n",
    "        for j in range(160):\n",
    "            if (FUNC_opt_i_h[i][j] != R_opt(0) and FUNC_opt_i_h[i][j] != R_opt(1)):\n",
    "                c_i_y += FUNC_opt_i_h[i][j](*(temp_list[j*8:(j+1)*8]),vars_opt[8])\n",
    "            elif(FUNC_opt_i_h[i][j] == R_opt(1)):\n",
    "                c_i_y += vars_opt[8]^8\n",
    "            \n",
    "        coeff = c_i_y.coefficients()\n",
    "        temp_index_list = []\n",
    "        h_coeff = c_i_y.homogeneous_components()\n",
    "        for j in range(7,-1,-1):\n",
    "            if h_coeff.get(j,None)!= None:\n",
    "                temp_index_list.append(j)\n",
    "        for j in range(len(temp_index_list)):\n",
    "            A_i_j[i][temp_index_list[j]] = coeff[j]\n",
    "    \n",
    "    A_star_j = np.zeros(deg,dtype = object)\n",
    "    G_i_x = PolynomialRing(GF_2p128,'zz',2)\n",
    "    g_i_x = G_i_x(1)\n",
    "    var_g_i_x = G_i_x.gens()\n",
    "    for j in range(deg - 1):\n",
    "        A_star_j[j] = GF_2p128(0)\n",
    "        u_star = GF_2p128(0)\n",
    "        v_star = GF_2p128(0)\n",
    "        for i in range(128):\n",
    "            u_star += u_lift[j*128+i] * b^i\n",
    "            v_star += v_lift[l+j*128+i] * b^i\n",
    "        g_i_x *= (v_star + u_star * var_g_i_x[0])\n",
    "    \n",
    "    coeff = g_i_x.coefficients()\n",
    "    temp_index_list = []\n",
    "    h_coeff = g_i_x.homogeneous_components()\n",
    "    for j in range(7,-1,-1):\n",
    "        if h_coeff.get(j,None)!= None:\n",
    "            temp_index_list.append(j)\n",
    "    for j in range(len(temp_index_list)):\n",
    "        A_star_j[temp_index_list[j]] = coeff[j]\n",
    "\n",
    "    a_verif = np.zeros(deg,dtype = object)\n",
    "    for j in range(deg):\n",
    "        a_verif[j] = A_star_j[j]\n",
    "        for i in range(t):\n",
    "            a_verif[j] += challenge[i] * A_i_j[i][j] \n",
    "\n",
    "    return a_verif"
   ]
  },
  {
   "cell_type": "code",
   "execution_count": 11,
   "id": "ac342eb7",
   "metadata": {
    "vscode": {
     "languageId": "python"
    }
   },
   "outputs": [],
   "source": [
    "def ver(d,a_ver,delta,Q_vole,challenge):\n",
    "    q_lift_star = np.zeros(l+deg-1,dtype=object)\n",
    "    q_lift = np.zeros((deg-1)*128,dtype=object)\n",
    "    Q_star = Q_vole[:l] + d.reshape(-1,1) @ np.array([1 for _ in range(16)]).reshape(1,16) @ np.diag(delta)\n",
    "    delta_lift = lift_to_GF2p128(delta)\n",
    "    for i in range(l):\n",
    "        q_lift_star[i] = lift_to_GF2p128(Q_star[i])\n",
    "    for i in range(l,l+(deg-1)*128):\n",
    "        q_lift[i-l] = lift_to_GF2p128(Q_vole[i])\n",
    "    \n",
    "    for j in range(deg-1):\n",
    "        q_lift_star[l+j] = GF_2p128(0)\n",
    "        for i in range(128):\n",
    "            q_lift_star[l+j] += q_lift[j*128+i] * b^i\n",
    "    \n",
    "    B_star = q_lift_star[l]\n",
    "    for i in range(deg-2):\n",
    "        B_star *= q_lift_star[l+i+1]\n",
    "    \n",
    "\n",
    "    c_i_delta = np.zeros(t,dtype=object)\n",
    "    for i in range(t):\n",
    "        c_i_delta[i] = GF_2p128(0)\n",
    "        print(i)\n",
    "        for j in range(160):\n",
    "            if (FUNC_opt_i_h[i][j] != R_opt(0) and FUNC_opt_i_h[i][j] != R_opt(1)):\n",
    "                c_i_delta[i] += FUNC_opt_i_h[i][j](*(q_lift_star[j*8:(j+1)*8]),delta_lift)\n",
    "            elif(FUNC_opt_i_h[i][j] == R_opt(1)):\n",
    "                c_i_delta[i] += delta_lift^8\n",
    "    \n",
    "    c_veri = B_star\n",
    "    for i in range(t):\n",
    "        c_veri += challenge[i] * c_i_delta[i] \n",
    "    \n",
    "    c_ver = GF_2p128(0)\n",
    "    for i in range(deg):\n",
    "        c_ver += a_ver[i] * delta_lift^i\n",
    "    \n",
    "    return (c_ver == c_veri)"
   ]
  },
  {
   "cell_type": "code",
   "execution_count": null,
   "id": "3c3e8aa7",
   "metadata": {
    "vscode": {
     "languageId": "python"
    }
   },
   "outputs": [],
   "source": [
    "# 至此,dD-Rep实现完成\n",
    "\n",
    "# 以下是对协议的测试\n",
    "\n",
    "\n",
    "##############################    test  ##################"
   ]
  },
  {
   "cell_type": "code",
   "execution_count": 12,
   "id": "87fa432a",
   "metadata": {
    "vscode": {
     "languageId": "python"
    }
   },
   "outputs": [],
   "source": [
    "\n",
    "# test \n",
    "prover,verifier = vole()\n",
    "u_vole, v_vole = prover\n",
    "Q_vole, delta_vole = verifier\n"
   ]
  },
  {
   "cell_type": "code",
   "execution_count": 13,
   "id": "3b30e2fa",
   "metadata": {
    "vscode": {
     "languageId": "python"
    }
   },
   "outputs": [],
   "source": [
    "u_lift,v_lift,d = round1(u_vole.reshape(2176),v_vole,witness)\n"
   ]
  },
  {
   "cell_type": "code",
   "execution_count": null,
   "id": "f86d9ff2",
   "metadata": {
    "vscode": {
     "languageId": "python"
    }
   },
   "outputs": [],
   "source": [
    "u_lift"
   ]
  },
  {
   "cell_type": "code",
   "execution_count": null,
   "id": "b239dc2f",
   "metadata": {
    "vscode": {
     "languageId": "python"
    }
   },
   "outputs": [],
   "source": [
    "v_lift"
   ]
  },
  {
   "cell_type": "code",
   "execution_count": null,
   "id": "71b9ec99",
   "metadata": {
    "vscode": {
     "languageId": "python"
    }
   },
   "outputs": [],
   "source": [
    "d"
   ]
  },
  {
   "cell_type": "code",
   "execution_count": 17,
   "id": "b27d59e2",
   "metadata": {
    "vscode": {
     "languageId": "python"
    }
   },
   "outputs": [],
   "source": [
    "challenge = round2()"
   ]
  },
  {
   "cell_type": "code",
   "execution_count": null,
   "id": "86c91d8c",
   "metadata": {
    "vscode": {
     "languageId": "python"
    }
   },
   "outputs": [],
   "source": [
    "challenge"
   ]
  },
  {
   "cell_type": "code",
   "execution_count": null,
   "id": "75a1a755",
   "metadata": {
    "vscode": {
     "languageId": "python"
    }
   },
   "outputs": [],
   "source": [
    "a_verifiction = round3(challenge,u_lift,v_lift,witness)"
   ]
  },
  {
   "cell_type": "code",
   "execution_count": null,
   "id": "8fcacee9",
   "metadata": {
    "vscode": {
     "languageId": "python"
    }
   },
   "outputs": [],
   "source": [
    "a_verifiction"
   ]
  },
  {
   "cell_type": "code",
   "execution_count": null,
   "id": "ea227f7e",
   "metadata": {
    "vscode": {
     "languageId": "python"
    }
   },
   "outputs": [],
   "source": [
    "res = ver(d,a_verifiction,delta_vole,Q_vole,challenge)"
   ]
  },
  {
   "cell_type": "code",
   "execution_count": null,
   "id": "8dfc1603",
   "metadata": {
    "vscode": {
     "languageId": "python"
    }
   },
   "outputs": [],
   "source": [
    "res"
   ]
  }
 ],
 "metadata": {
  "kernelspec": {
   "display_name": "SageMath 10.1",
   "language": "sage",
   "name": "sagemath"
  },
  "language_info": {
   "codemirror_mode": {
    "name": "ipython",
    "version": 3
   },
   "file_extension": ".py",
   "mimetype": "text/x-python",
   "name": "sage",
   "nbconvert_exporter": "python",
   "pygments_lexer": "ipython3",
   "version": "3.10.12"
  }
 },
 "nbformat": 4,
 "nbformat_minor": 5
}
